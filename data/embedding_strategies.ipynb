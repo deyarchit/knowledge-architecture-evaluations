{
 "cells": [
  {
   "cell_type": "code",
   "execution_count": 1,
   "id": "5ce33c18",
   "metadata": {},
   "outputs": [],
   "source": [
    "import chromadb\n",
    "\n",
    "client = chromadb.Client()"
   ]
  },
  {
   "cell_type": "markdown",
   "id": "5f0dcd1c",
   "metadata": {},
   "source": [
    "### Preparing the data for vector search"
   ]
  },
  {
   "cell_type": "code",
   "execution_count": 2,
   "id": "8b382073",
   "metadata": {},
   "outputs": [
    {
     "name": "stderr",
     "output_type": "stream",
     "text": [
      "/Users/deyarchit/Projects/ai/knowledge-evaluations/.venv/lib/python3.12/site-packages/tqdm/auto.py:21: TqdmWarning: IProgress not found. Please update jupyter and ipywidgets. See https://ipywidgets.readthedocs.io/en/stable/user_install.html\n",
      "  from .autonotebook import tqdm as notebook_tqdm\n"
     ]
    }
   ],
   "source": [
    "from pathlib import Path\n",
    "from evaluator.data.file_io import read_json_from_file\n",
    "from evaluator.models.qa import Concepts\n",
    "\n",
    "# Prepara data for loading\n",
    "chunk_file = Path(\"processed/ap_history_concepts_title_chunking.json\")\n",
    "concepts = Concepts\n",
    "concepts = read_json_from_file(chunk_file, Concepts)\n",
    "\n",
    "ids:list = []\n",
    "documents:list = []\n",
    "for concept_id, concept in concepts.chunks.items():\n",
    "    documents.append(concept)\n",
    "    ids.append(concept_id)"
   ]
  },
  {
   "cell_type": "markdown",
   "id": "eb60001d",
   "metadata": {},
   "source": [
    "### Using a collection with default embedder model\n",
    "\n",
    "Model: all-MiniLM-L6-v2"
   ]
  },
  {
   "cell_type": "code",
   "execution_count": 3,
   "id": "49accf96",
   "metadata": {},
   "outputs": [],
   "source": [
    "# Create a collection with default embedder\n",
    "collection_with_default_embedder = client.get_or_create_collection(name=\"ap_history_concepts\")\n",
    "\n",
    "# Add documents to the colleciton using the default embedder\n",
    "collection = collection_with_default_embedder\n",
    "collection.upsert(\n",
    "    documents=documents,\n",
    "    ids=ids\n",
    ")"
   ]
  },
  {
   "cell_type": "code",
   "execution_count": 4,
   "id": "98d52f4d",
   "metadata": {},
   "outputs": [
    {
     "name": "stdout",
     "output_type": "stream",
     "text": [
      "\n",
      "ChromaDB Query Results:\n",
      "  Result 1:\n",
      "    Text: The more factories that developed in favorable locations, the larger cities would grow. In 1800, along with London, the Chinese cities of Beijing (Peking) and Canton ranked in the top three, but just 100 years later, nine of the ten largest cities in the world were in Europe or the United States.\n",
      "    Distance: 0.7605158090591431\n",
      "    Metadata: None\n",
      "  Result 2:\n",
      "    Text: Focus On: Urbanization If trade is the way you make your living, chances are you are spending lots of time in cities. Traders and merchants needed a place to meet and conduct business and this period saw the growth of urban culture throughout the world, mostly as a result of trade contacts and networks. Along with trade, cities showcased the wealth and power of the rulers who both controlled and beneted from the trade. Urban centers usually developed along trade routes or in locations necessary for strategic defense. In the early years, the most populous cities were in the Muslim world and China—cities that were part of the network of Silk Routes: Baghdad, Merv, and Chang’an. Prior to 1400, Constantinople was the only European city of any size and it was really considered part of the Eastern world. Along with their economic role, these cities became political and cultural centers for the new trade empires. After 1400, European cities begin to grow with Paris and the Italian city-states\n",
      "    Distance: 0.8506983518600464\n",
      "    Metadata: None\n",
      "  Result 3:\n",
      "    Text: Focus On: Demographic Shifts The demographic changes of the sixteenth and seventeenth centuries were, in a word, huge. The Aztecs and Incas were wiped out. Huge cities were depopulated. Europeans moved by the hundreds of thousands. Africans were forced to migrate by the millions. Cities in Europe swelled as the feudal system evaporated and urban, middle class merchants lined their pockets with the fruits of trade and empire. By 1750, the continents of Europe, Africa, North America, and South America were unrecognizable from their 1450 portraits.\n",
      "    Distance: 0.9841632843017578\n",
      "    Metadata: None\n",
      "  Result 4:\n",
      "    Text: IV. Developments in Specific Countries and Empires 1450 to 1750\n",
      "\n",
      "After you’ve studied the major social, religious, economic, and political developments that swept through Europe and beyond, you should be able to put developments in individual countries and empires in the proper context. In addition to reviewing developments that occurred within the individual European powers, we’ll help you review the unique civilizations that existed elsewhere on the globe, particularly the Ottoman Empire, India, China, and Japan. Developments in the Americas, of course, are covered in the previous section under European Exploration and Expansion. In the next chapter, we’ll review the impact of European expansionism on Africa and Asia in the nineteenth century. Here’s how we’ve organized this section.\n",
      "    Distance: 0.9895815849304199\n",
      "    Metadata: None\n",
      "  Result 5:\n",
      "    Text: III. Major European Developments 1450 to 1750\n",
      "\n",
      "This section focuses on developments that inuenced all of Europe, as opposed to more localized developments that afiected particular countries or empires. Of course, the developments discussed in this section had an impact beyond the borders of Europe, which is why they’re so important to the study of world history. We’ve organized the major developments into two main groups.\n",
      "\n",
      "A. Revolutions in European Thought and Expression B. European Exploration and Expansion: Empires of the Wind\n",
      "    Distance: 1.0242433547973633\n",
      "    Metadata: None\n"
     ]
    }
   ],
   "source": [
    "results = collection.query(\n",
    "    query_texts=[\"In the period 1550-1750, most of the world’s ten largest cities were located in which of the following regions? a) The Middle East b) Western Europe c) North Africa and southern Europe d) South Asia e) East Asia\"],\n",
    "    n_results=5, # how many results to return\n",
    "    include=['documents', 'distances', 'metadatas']\n",
    ")\n",
    "print(\"\\nChromaDB Query Results:\")\n",
    "for i, doc in enumerate(results['documents'][0]):\n",
    "    print(f\"  Result {i+1}:\")\n",
    "    print(f\"    Text: {doc}\")\n",
    "    print(f\"    Distance: {results['distances'][0][i]}\")\n",
    "    print(f\"    Metadata: {results['metadatas'][0][i]}\")"
   ]
  },
  {
   "cell_type": "markdown",
   "id": "6a4cef83",
   "metadata": {},
   "source": [
    "### Preparing prompts"
   ]
  },
  {
   "cell_type": "code",
   "execution_count": 5,
   "id": "6f5b0849",
   "metadata": {},
   "outputs": [],
   "source": [
    "def query(collection, query: str) -> list:\n",
    "        results = collection.query(\n",
    "            query_texts=[query],\n",
    "            n_results=3,\n",
    "            include=[\"documents\", \"distances\", \"metadatas\"],\n",
    "        )\n",
    "        if not results[\"documents\"]:\n",
    "            return \"\"        \n",
    "\n",
    "        return results[\"documents\"][0]\n",
    "\n",
    "def generate_prompt(question_with_options:str, context_docs: list):\n",
    "    formatted_context = \"\\n\".join([f\"[{i+1}] {doc}\" for i, doc in enumerate(context_docs)])\n",
    "\n",
    "    prompt = f\"\"\".\n",
    "    Context Documents:\n",
    "    {formatted_context}\n",
    "\n",
    "    Question:\n",
    "    {question_with_options}\n",
    "    \"\"\"\n",
    "    return prompt"
   ]
  },
  {
   "cell_type": "code",
   "execution_count": 6,
   "id": "a74189dd",
   "metadata": {},
   "outputs": [
    {
     "name": "stdout",
     "output_type": "stream",
     "text": [
      ".\n",
      "    Context Documents:\n",
      "    [1] which they had little of but which existed in the Sahara. When they encountered the Islamic traders along the salt road, they started trading for a lot more than just salt. The consequence was an explosion of trade. Why were the Islamic traders so interested in trading with west African kingdoms? Because in Ghana (about 800–1000 C.E.) and Mali (about 1200–1450 C.E.), there was tons, and we mean tons, of gold. A little sand in your eyes was probably worth some gold in your hand. So the Islamic traders kept coming. The constant trade brought more than just Islamic goods to Ghana and Mali; it brought Islam. For Ghana the result was devastating. The empire was subjected to a Holy War led by an Islamic group intent on converting (or else killing) them. While Ghana was able to defeat the\n",
      "[2] empire was subjected to a Holy War led by an Islamic group intent on converting (or else killing) them. While Ghana was able to defeat the Islamic forces, their empire fell into decline. By the time the Mali came to power, the region had converted to Islam anyway, this time in a more peaceful transition. One of the greatest Mali rulers, Mansa Musa, built a capital at Timbuktu and expanded the kingdom well beyond the bounds of Ghana. In 1307, Musa made a pilgrimage to Mecca (remember the Five Pillars of Islam?) complete with an entourage of hundreds of gold-carrying servants and camels. The journey was so extravagant and so long and so impressive to everyone who saw it, that Musa became an overnight international sensation. Had the entertainment industry been fully established during that time, you can bet that Access Hollywood and US Weekly would have been all over the Musa moment. But the largest empire in west Africa was formed in the mid-fteenth century, when Songhai ruler Sonni Ali\n",
      "[3] detail, you should recognize the pattern of state-building and the relationship of Africa to both the Islamic world and the Europeans. The sub-Saharan empire of Songhai was mentioned briey in the previous chapter. Like its predecessors, Ghana and Mali, this was an Islamic state with economic ties to the Muslim world through the trans-Saharan trade of salt and gold. Like other empires, this was built on conquests and military force. Sunni Ali (ruled 1464–1493) consolidated his empire in the valley of the Niger River using an imperial navy, established a central administration, and financed the city of Timbuktu as a major Islamic center. And like all great empires, Songhai fell, in this case to Moroccans with muskets, a superior military force. On the west coast of Africa, the centralized kingdom of Kongo was bolstered by its trade with Portuguese merchants as early as the 1480s. The Europeans established close economic and political relationships with the king, which initially worked to\n",
      "\n",
      "    Question:\n",
      "    Ghana in the 900s and France in the 1600s had which of the following characteristics in common? a) Parliamentary government b) Divine monarchy c) Matrilineal descent d) Islam e) Trade based on gold and manufacturing good\n",
      "    \n",
      "-----------------------------------------------------------------\n",
      ".\n",
      "    Context Documents:\n",
      "    [1] czar, he immediately disbanded it. In the end, the attempts at reform were too little, too late. The Romanov Dynasty would soon come to an end. The Ottoman Empire: Are They Still Calling It an Empire? The Ottoman Empire began its decline in the sixteenth century and never was able to gain a second wind. Throughout the seventeenth and eighteenth centuries, the Ottomans continually fought the Russians for control of the Balkans, the Black Sea, and surrounding areas. Most of the time, the Russians were victorious. So by the nineteenth century, not only was the Ottoman Empire considerably smaller and less powerful, but it was in danger of collapse. Greece, Egypt, and Arabia launched successful independence movements. This worried Britain and France, who feared that if the Ottoman Empire fell entirely, the Russian Empire would seize the chance to take over the eastern Mediterranean. So, for the next century, Britain and France tried to keep the Ottoman Empire going if only to prevent\n",
      "[2] which was called the “Third Rome” (after Rome itself and then Constantinople). At around the same time, Russian leaders were overthrowing the Mongols. In 1480, Ivan III of Moscow refused to pay tribute to the Mongols and declared Russia free of Mongol rule. He, and later his grandson Ivan IV, established absolute rule in Russia, uniting it and expanding it ever eastward. They recruited peasants and ofiered them freedom from their feudal lords if they agreed to settle in new lands to the east. The catch was that these peasants had to conquer the land themselves! Known as Cossacks, these peasant-soldiers expanded Russian territories in the sixteenth through the eighteenth centuries well into Siberia and southward to the Caspian Sea. Ivan IV was such a strong leader and held such absolute power that he became known as Ivan the Terrible (not necessarily meaning bad, but instead formidable or impressive). Taking on the title of czar (Russian for “Caesar”), Ivan the Terrible expanded\n",
      "[3] What About Russia? Recall that eastern Europe and Russia at this time were very dierent from the West. The Eastern Orthodox Christians of this area spent much time and eort defending themselves from the colonization of various western invaders. It wasn’t until 1242 that Russia succumbed to the Tatars (a group of Mongols from the east) under Genghis Khan. The Tatars ruled a large chunk of Russia for two centuries, leading to a cultural rift that further split eastern and western Europe. By the fourteenth century the Mongol power started to decline and the Russian princes of Muscovy grew in power. By the late 1400s, Ivan III expanded Muscovy territory (the area surrounding Moscow) into much of modern-day Russia and declared himself czar, the Russian word for emperor or Caesar. As the center of the Eastern Orthodox Church, Moscow was declared the Third Rome, after the real Rome and Constantinople. By the mid-1500s, Ivan the Terrible (or the House of Rurik) had centralized power over the\n",
      "\n",
      "    Question:\n",
      "    During the eighteenth century, which of the following reigned, but did not rule? a) The Ottoman sultan b) The king of France c) The Chinese emperor d) The Japanese emperor e) The Russian Tzar\n",
      "    \n",
      "-----------------------------------------------------------------\n",
      ".\n",
      "    Context Documents:\n",
      "    [1] Compare Them: The Aztec Civilization and the Roman Empire Although the Aztecs and Romans developed large civilizations, continents and centuries apart, they were similar in at least two major respects. First, they tied together their vast empires by building roads. Second, they generally allowed the people they conquered to govern themselves, as long as they paid their taxes or tributes. Because of the improved transportation systems (roads) and the diversity of cultures under their control, both the Aztecs and the Romans were able to adapt ideas from the people they conquered and use them for their own purposes. In other words, the Aztecs and the Romans were conquerors, but also borrowers.\n",
      "[2] Aztecs used the conquest of neighboring communities to secure humans for religious sacrifices. These neighboring states loathed the Aztecs, and were more than willing to cooperate with the Spaniards. Cortes, aided and guided by the resentful neighbors, first approached the magnificent Aztec capital of Tenochtitlan on horseback. Horses were as yet completely unknown in America (and in fact were introduced to the continent by Spanish conquistadores). Montezuma, the Aztec ruler, mistook Cortes, with his pale skin and horse legs, for a god. He sent a gift of gold to appease this new deity, but unfortunately for the Aztecs, this ofiering only fueled the appetite of the new conquerors. Because the Spaniards’ sole motivation for exploring the New World was to acquire gold and spices, the Spanish didn’t hesitate to seize Montezuma and begin a siege of Tenochtitlan. Disease: The Ultimate Weapon of Mass Destruction Although the Aztecs resisted the occupation and fought to free their leader, the\n",
      "[3] Spanish had incredibly powerful weapons on their side: namely, diseases such as smallpox. These diseases were completely new to the Americas, and quickly decimated the Aztecs, who had no resistance to them. The combination of disease, superior weapons, and assistance from Aztec enemies reduced the native population of the region from well over 20 million in 1520 to fewer than 2 million by 1580. Because so many of the deaths occurred in the first few years, the Spaniards were able to seize control of the empire by around 1525. A similar fate met the Inca Empire. In 1531, Francisco Pizarro set out in search of the Incas with a tiny force of 200 men. Disease, superior weapons, and help from enemies quickly destroyed what little resistance the Incas could mount. By 1535, Pizarro was in control of the region.\n",
      "\n",
      "    Question:\n",
      "    Which of the following was the most important factor enabling the Spanish to defeat the Aztec Empire? a) The Spanish were able to field larger armies than the Aztecs b) The Spanish were able to use their understanding of Aztec culture to create effective propaganda that weakened Aztec resistance. c) The Spanish were able to exploit discontent within the Aztec state to trigger a revolt of the lower classes against the Aztec ruling class. d) The Spanish were able to form military alliances with other indigenous peoples who were enemies of the Aztecs. e) The Spanish were able to devise effective countermeasures to the horse cavalry that formed the bulk of the Aztec army.\n",
      "    \n",
      "-----------------------------------------------------------------\n",
      ".\n",
      "    Context Documents:\n",
      "    [1] Valley. Each of the Aryan tribes migrated to India independently; over a period of time, they began to settle in the Indus Valley, where they would give up their nomadic lifestyles. The important thing to remember about the Aryan conquest of the Indus Valley is the establishment of their religious beliefs on the Indian subcontinent, in particular their belief in reincarnation. The Aryans, yet another polytheistic people, recorded their beliefs and traditions in the Vedas and the Upanishads. Over centuries, these early Aryan beliefs evolved to form the basis for what later became Hinduism, which is discussed in detail in Section IV of this chapter. The Aryan social structure also had a major impact on later developments in India. Combined with Hinduism, it formed the basis of what later became the caste system. Initially, the Aryan social structure divided its people into three classes, in this order from top to bottom: warriors, priests, and peasants. Later, a class of landowners and\n",
      "[2] other parts of the world. In recent years, modern Hindus are beginning to rebel against the strictures of the caste system. But Hinduism as a whole remains a powerful force—even regarding its adherents’ relationship to the animal kingdom, because Hindus believe they can be reincarnated as animals.\n",
      "[3] E. HINDUISM Cultures that Practiced It The various cultures of the Indian subcontinent practiced Hinduism. Nuts and Bolts Hinduism began in India with the Aryan invaders. Review the history of India in Section III of this chapter if you need to. Hindus believe in one supreme force called Brahma, the creator, who is in all things. Hindu gods are manifestations of Brahma—notably Vishnu, the preserver, and Shiva, the destroyer. The life goal of Hindus is to merge with Brahma. But because that task is considered impossible to accomplish in one lifetime, Hindus also believe that who you are in this life was determined by who you were in a past life; and how you conduct yourself in your assigned role in this life will determine the role (caste) you are born into in a future life. If you behave well and follow the dharma (the rules and obligations of the caste you’re born into), you’ll keep moving up the ladder toward unification with Brahma. If not, you’ll drop down the ladder. This cycle of\n",
      "\n",
      "    Question:\n",
      "    The foundation of ancient Indian civilization is best described by all of the following EXCEPT (A) reincarnation (B) the Dao (C) caste (D) karma\n",
      "    \n",
      "-----------------------------------------------------------------\n"
     ]
    }
   ],
   "source": [
    "questions: list =[\n",
    "    \"Ghana in the 900s and France in the 1600s had which of the following characteristics in common? a) Parliamentary government b) Divine monarchy c) Matrilineal descent d) Islam e) Trade based on gold and manufacturing good\",\n",
    "    \"During the eighteenth century, which of the following reigned, but did not rule? a) The Ottoman sultan b) The king of France c) The Chinese emperor d) The Japanese emperor e) The Russian Tzar\",\n",
    "    \"Which of the following was the most important factor enabling the Spanish to defeat the Aztec Empire? a) The Spanish were able to field larger armies than the Aztecs b) The Spanish were able to use their understanding of Aztec culture to create effective propaganda that weakened Aztec resistance. c) The Spanish were able to exploit discontent within the Aztec state to trigger a revolt of the lower classes against the Aztec ruling class. d) The Spanish were able to form military alliances with other indigenous peoples who were enemies of the Aztecs. e) The Spanish were able to devise effective countermeasures to the horse cavalry that formed the bulk of the Aztec army.\",\n",
    "    \"The foundation of ancient Indian civilization is best described by all of the following EXCEPT (A) reincarnation (B) the Dao (C) caste (D) karma\"\n",
    "    ]\n",
    "\n",
    "for question in questions:\n",
    "    print(generate_prompt(question, query(collection, question)))\n",
    "    print(\"-----------------------------------------------------------------\")"
   ]
  },
  {
   "cell_type": "markdown",
   "id": "7352158c",
   "metadata": {},
   "source": [
    "### Using a custom embedder"
   ]
  },
  {
   "cell_type": "code",
   "execution_count": 7,
   "id": "1fe7bef8",
   "metadata": {},
   "outputs": [
    {
     "name": "stderr",
     "output_type": "stream",
     "text": [
      "huggingface/tokenizers: The current process just got forked, after parallelism has already been used. Disabling parallelism to avoid deadlocks...\n",
      "To disable this warning, you can either:\n",
      "\t- Avoid using `tokenizers` before the fork if possible\n",
      "\t- Explicitly set the environment variable TOKENIZERS_PARALLELISM=(true | false)\n"
     ]
    }
   ],
   "source": [
    "from chromadb import Documents, EmbeddingFunction, Embeddings\n",
    "from sentence_transformers import SentenceTransformer\n",
    "\n",
    "\n",
    "class CustomEmbedder(EmbeddingFunction):\n",
    "    def __init__(self, model_instance: SentenceTransformer) -> None:\n",
    "        self.model = model_instance\n",
    "\n",
    "    def __call__(self, input: Documents) -> Embeddings:\n",
    "        # SentenceTransformer.encode returns a numpy array, convert to list of lists\n",
    "        response = self.model.encode(input).tolist()\n",
    "        return response\n",
    "\n",
    "\n",
    "custom_embedder  = CustomEmbedder(model_instance=SentenceTransformer(\"Qwen/Qwen3-Embedding-0.6B\"))\n",
    "collection_with_custom_embedder = client.get_or_create_collection(name=\"ap_history_concepts_custom\", embedding_function=custom_embedder)\n",
    "\n",
    "collection = collection_with_custom_embedder\n",
    "collection.upsert(\n",
    "    documents=documents,\n",
    "    ids=ids\n",
    ")"
   ]
  },
  {
   "cell_type": "code",
   "execution_count": 8,
   "id": "7d82954e",
   "metadata": {},
   "outputs": [
    {
     "name": "stdout",
     "output_type": "stream",
     "text": [
      ".\n",
      "    Context Documents:\n",
      "    [1] other hand, France’s Estates-General (a governing body representing clergy, nobles, merchants, and peasants) was not nearly as powerful as the English Parliament. It didn’t even meet for the bulk of the seventeenth century because the French kings ruled successfully under the justification of divine right.\n",
      "[2] 3. France After the Hundred Years’ War (1337–1443) drove the English from France, the French began to unify and centralize authority in a strong monarchy. But, as elsewhere, religious difierences stood in the way. France was largely Catholic, but during the Protestant Reformation, a group of French Protestants, known as Huguenots, developed into a sizeable and inuential minority. Throughout the mid- to late-sixteenth century, Catholics and Huguenots bitterly fought each other, sometimes brutally, until, in 1598, Henry IV issued the Edict of Nantes, which created an environment of toleration. Henry IV was the first Bourbon king. The Bourbon’s ruled France until 1792, nearly two centuries. Contrast Them: England and France During the Seventeenth Century Unlike England, France was ruled by a series of strong and able monarchs under the Bourbon Dynasty. After the death of Elizabeth, England went from monarchy to Commonwealth to Restoration to Glorious Revolution. Hardly stable. On the\n",
      "[3] which they had little of but which existed in the Sahara. When they encountered the Islamic traders along the salt road, they started trading for a lot more than just salt. The consequence was an explosion of trade. Why were the Islamic traders so interested in trading with west African kingdoms? Because in Ghana (about 800–1000 C.E.) and Mali (about 1200–1450 C.E.), there was tons, and we mean tons, of gold. A little sand in your eyes was probably worth some gold in your hand. So the Islamic traders kept coming. The constant trade brought more than just Islamic goods to Ghana and Mali; it brought Islam. For Ghana the result was devastating. The empire was subjected to a Holy War led by an Islamic group intent on converting (or else killing) them. While Ghana was able to defeat the\n",
      "\n",
      "    Question:\n",
      "    Ghana in the 900s and France in the 1600s had which of the following characteristics in common? a) Parliamentary government b) Divine monarchy c) Matrilineal descent d) Islam e) Trade based on gold and manufacturing good\n",
      "    \n",
      "-----------------------------------------------------------------\n",
      ".\n",
      "    Context Documents:\n",
      "    [1] other hand, France’s Estates-General (a governing body representing clergy, nobles, merchants, and peasants) was not nearly as powerful as the English Parliament. It didn’t even meet for the bulk of the seventeenth century because the French kings ruled successfully under the justification of divine right.\n",
      "[2] After the death of Ivan IV in 1584, and with no strong heir to take the throne, Russia’s feudal lords continually battled over who should rule the empire. The situation grew especially messy from 1604 to 1613, a period that historians refer to as the Time of Troubles, because one pretender to the throne would be killed by another pretender and yet another. In 1613, the madness subsided when Michael Romanov was elected czar by the feudal lords. The Romanov Dynasty added stability to the empire. It ruled until 1917. Like the Ivans, the Romanovs consolidated power and often ruled ruthlessly. The peasants, now serfs, were practically slaves. By the late 1600s, the Romanovs had expanded the empire, with the help of the Cossacks, eastward through Siberia. By 1689, Russian territory spread from the Ukraine (west of Moscow) to the Pacific Ocean, north of Manchuria.\n",
      "[3] czar, he immediately disbanded it. In the end, the attempts at reform were too little, too late. The Romanov Dynasty would soon come to an end. The Ottoman Empire: Are They Still Calling It an Empire? The Ottoman Empire began its decline in the sixteenth century and never was able to gain a second wind. Throughout the seventeenth and eighteenth centuries, the Ottomans continually fought the Russians for control of the Balkans, the Black Sea, and surrounding areas. Most of the time, the Russians were victorious. So by the nineteenth century, not only was the Ottoman Empire considerably smaller and less powerful, but it was in danger of collapse. Greece, Egypt, and Arabia launched successful independence movements. This worried Britain and France, who feared that if the Ottoman Empire fell entirely, the Russian Empire would seize the chance to take over the eastern Mediterranean. So, for the next century, Britain and France tried to keep the Ottoman Empire going if only to prevent\n",
      "\n",
      "    Question:\n",
      "    During the eighteenth century, which of the following reigned, but did not rule? a) The Ottoman sultan b) The king of France c) The Chinese emperor d) The Japanese emperor e) The Russian Tzar\n",
      "    \n",
      "-----------------------------------------------------------------\n",
      ".\n",
      "    Context Documents:\n",
      "    [1] Spanish had incredibly powerful weapons on their side: namely, diseases such as smallpox. These diseases were completely new to the Americas, and quickly decimated the Aztecs, who had no resistance to them. The combination of disease, superior weapons, and assistance from Aztec enemies reduced the native population of the region from well over 20 million in 1520 to fewer than 2 million by 1580. Because so many of the deaths occurred in the first few years, the Spaniards were able to seize control of the empire by around 1525. A similar fate met the Inca Empire. In 1531, Francisco Pizarro set out in search of the Incas with a tiny force of 200 men. Disease, superior weapons, and help from enemies quickly destroyed what little resistance the Incas could mount. By 1535, Pizarro was in control of the region.\n",
      "[2] Aztecs used the conquest of neighboring communities to secure humans for religious sacrifices. These neighboring states loathed the Aztecs, and were more than willing to cooperate with the Spaniards. Cortes, aided and guided by the resentful neighbors, first approached the magnificent Aztec capital of Tenochtitlan on horseback. Horses were as yet completely unknown in America (and in fact were introduced to the continent by Spanish conquistadores). Montezuma, the Aztec ruler, mistook Cortes, with his pale skin and horse legs, for a god. He sent a gift of gold to appease this new deity, but unfortunately for the Aztecs, this ofiering only fueled the appetite of the new conquerors. Because the Spaniards’ sole motivation for exploring the New World was to acquire gold and spices, the Spanish didn’t hesitate to seize Montezuma and begin a siege of Tenochtitlan. Disease: The Ultimate Weapon of Mass Destruction Although the Aztecs resisted the occupation and fought to free their leader, the\n",
      "[3] peasants and slaves). Through conquest and alliances, the Aztecs built an empire of some 12 million people. But despite the huge size, they didn’t use a bureaucratic form of government. The conquered areas were generally allowed to govern themselves, as long as they paid the tribute demanded of them. Roads were built to link the far-flung areas of the huge empire, and trade flourished. Aztec women had a subordinate public role but could inherit property. Like women in most all other traditional civilizations, Aztec women were primarily charged with running the household, but they were also involved in skilled crafts, especially weaving, and—to some extent—in commerce. Notably, the Aztec religious system was tied to the military because one of the purposes of the military was to obtain victims for human sacrice. Tens of thousands of men and women were killed annually; many would be sacriced simultaneously for an important religious occasion, such as the dedication of a new temple.\n",
      "\n",
      "    Question:\n",
      "    Which of the following was the most important factor enabling the Spanish to defeat the Aztec Empire? a) The Spanish were able to field larger armies than the Aztecs b) The Spanish were able to use their understanding of Aztec culture to create effective propaganda that weakened Aztec resistance. c) The Spanish were able to exploit discontent within the Aztec state to trigger a revolt of the lower classes against the Aztec ruling class. d) The Spanish were able to form military alliances with other indigenous peoples who were enemies of the Aztecs. e) The Spanish were able to devise effective countermeasures to the horse cavalry that formed the bulk of the Aztec army.\n",
      "    \n",
      "-----------------------------------------------------------------\n"
     ]
    }
   ],
   "source": [
    "questions: list =[\n",
    "    \"Ghana in the 900s and France in the 1600s had which of the following characteristics in common? a) Parliamentary government b) Divine monarchy c) Matrilineal descent d) Islam e) Trade based on gold and manufacturing good\",\n",
    "    \"During the eighteenth century, which of the following reigned, but did not rule? a) The Ottoman sultan b) The king of France c) The Chinese emperor d) The Japanese emperor e) The Russian Tzar\",\n",
    "    \"Which of the following was the most important factor enabling the Spanish to defeat the Aztec Empire? a) The Spanish were able to field larger armies than the Aztecs b) The Spanish were able to use their understanding of Aztec culture to create effective propaganda that weakened Aztec resistance. c) The Spanish were able to exploit discontent within the Aztec state to trigger a revolt of the lower classes against the Aztec ruling class. d) The Spanish were able to form military alliances with other indigenous peoples who were enemies of the Aztecs. e) The Spanish were able to devise effective countermeasures to the horse cavalry that formed the bulk of the Aztec army.\"\n",
    "    ]\n",
    "\n",
    "for question in questions:\n",
    "    print(generate_prompt(question, query(collection, question)))\n",
    "    print(\"-----------------------------------------------------------------\")\n"
   ]
  },
  {
   "cell_type": "markdown",
   "id": "d2dacb42",
   "metadata": {},
   "source": [
    "### Exploring how re-ranking works\n",
    "\n",
    "- **Vector Search:** Query with question to retrieve a broad set of candidates.\n",
    "    \n",
    "- **Reranking:** Use a **cross-encoder** on the retrieved candidates (question + each document) to precisely rank their relevance and select the very best ones for your LLM."
   ]
  },
  {
   "cell_type": "code",
   "execution_count": 9,
   "id": "71ec1a28",
   "metadata": {},
   "outputs": [],
   "source": [
    "from sentence_transformers.cross_encoder import CrossEncoder\n",
    "\n",
    "# Pre-trained cross encoder\n",
    "model = CrossEncoder(\"cross-encoder/ms-marco-MiniLM-L6-v2\")\n",
    "\n",
    "def query_with_reranking(collection, query: str) -> list:\n",
    "    results = collection.query(\n",
    "        query_texts=[query],\n",
    "        n_results=50,\n",
    "        include=[\"documents\", \"distances\", \"metadatas\"],\n",
    "    )\n",
    "    if not results[\"documents\"]:\n",
    "        return \"\"        \n",
    "\n",
    "    search_results: list = []\n",
    "    for result in results[\"documents\"][0]:\n",
    "        search_results.append(result)\n",
    "\n",
    "    ranks = model.rank(query, search_results)\n",
    "    # Print the scores\n",
    "\n",
    "    final_results: list =[]\n",
    "    for rank in ranks[:3]:\n",
    "        print(f\"{rank['score']:.2f}\\t{rank['corpus_id']}\\t{search_results[rank['corpus_id']]}\")\n",
    "        final_results.append(search_results[rank['corpus_id']])\n",
    "    \n",
    "    return final_results        "
   ]
  },
  {
   "cell_type": "code",
   "execution_count": 10,
   "id": "bd0478c4",
   "metadata": {},
   "outputs": [
    {
     "name": "stdout",
     "output_type": "stream",
     "text": [
      "-4.42\t2\twhich they had little of but which existed in the Sahara. When they encountered the Islamic traders along the salt road, they started trading for a lot more than just salt. The consequence was an explosion of trade. Why were the Islamic traders so interested in trading with west African kingdoms? Because in Ghana (about 800–1000 C.E.) and Mali (about 1200–1450 C.E.), there was tons, and we mean tons, of gold. A little sand in your eyes was probably worth some gold in your hand. So the Islamic traders kept coming. The constant trade brought more than just Islamic goods to Ghana and Mali; it brought Islam. For Ghana the result was devastating. The empire was subjected to a Holy War led by an Islamic group intent on converting (or else killing) them. While Ghana was able to defeat the\n",
      "-5.32\t7\tempire was subjected to a Holy War led by an Islamic group intent on converting (or else killing) them. While Ghana was able to defeat the Islamic forces, their empire fell into decline. By the time the Mali came to power, the region had converted to Islam anyway, this time in a more peaceful transition. One of the greatest Mali rulers, Mansa Musa, built a capital at Timbuktu and expanded the kingdom well beyond the bounds of Ghana. In 1307, Musa made a pilgrimage to Mecca (remember the Five Pillars of Islam?) complete with an entourage of hundreds of gold-carrying servants and camels. The journey was so extravagant and so long and so impressive to everyone who saw it, that Musa became an overnight international sensation. Had the entertainment industry been fully established during that time, you can bet that Access Hollywood and US Weekly would have been all over the Musa moment. But the largest empire in west Africa was formed in the mid-fteenth century, when Songhai ruler Sonni Ali\n",
      "-5.76\t0\tother hand, France’s Estates-General (a governing body representing clergy, nobles, merchants, and peasants) was not nearly as powerful as the English Parliament. It didn’t even meet for the bulk of the seventeenth century because the French kings ruled successfully under the justification of divine right.\n",
      ".\n",
      "    Context Documents:\n",
      "    [1] which they had little of but which existed in the Sahara. When they encountered the Islamic traders along the salt road, they started trading for a lot more than just salt. The consequence was an explosion of trade. Why were the Islamic traders so interested in trading with west African kingdoms? Because in Ghana (about 800–1000 C.E.) and Mali (about 1200–1450 C.E.), there was tons, and we mean tons, of gold. A little sand in your eyes was probably worth some gold in your hand. So the Islamic traders kept coming. The constant trade brought more than just Islamic goods to Ghana and Mali; it brought Islam. For Ghana the result was devastating. The empire was subjected to a Holy War led by an Islamic group intent on converting (or else killing) them. While Ghana was able to defeat the\n",
      "[2] empire was subjected to a Holy War led by an Islamic group intent on converting (or else killing) them. While Ghana was able to defeat the Islamic forces, their empire fell into decline. By the time the Mali came to power, the region had converted to Islam anyway, this time in a more peaceful transition. One of the greatest Mali rulers, Mansa Musa, built a capital at Timbuktu and expanded the kingdom well beyond the bounds of Ghana. In 1307, Musa made a pilgrimage to Mecca (remember the Five Pillars of Islam?) complete with an entourage of hundreds of gold-carrying servants and camels. The journey was so extravagant and so long and so impressive to everyone who saw it, that Musa became an overnight international sensation. Had the entertainment industry been fully established during that time, you can bet that Access Hollywood and US Weekly would have been all over the Musa moment. But the largest empire in west Africa was formed in the mid-fteenth century, when Songhai ruler Sonni Ali\n",
      "[3] other hand, France’s Estates-General (a governing body representing clergy, nobles, merchants, and peasants) was not nearly as powerful as the English Parliament. It didn’t even meet for the bulk of the seventeenth century because the French kings ruled successfully under the justification of divine right.\n",
      "\n",
      "    Question:\n",
      "    Ghana in the 900s and France in the 1600s had which of the following characteristics in common? a) Parliamentary government b) Divine monarchy c) Matrilineal descent d) Islam e) Trade based on gold and manufacturing good\n",
      "    \n",
      "-----------------------------------------------------------------\n",
      "1.39\t2\tczar, he immediately disbanded it. In the end, the attempts at reform were too little, too late. The Romanov Dynasty would soon come to an end. The Ottoman Empire: Are They Still Calling It an Empire? The Ottoman Empire began its decline in the sixteenth century and never was able to gain a second wind. Throughout the seventeenth and eighteenth centuries, the Ottomans continually fought the Russians for control of the Balkans, the Black Sea, and surrounding areas. Most of the time, the Russians were victorious. So by the nineteenth century, not only was the Ottoman Empire considerably smaller and less powerful, but it was in danger of collapse. Greece, Egypt, and Arabia launched successful independence movements. This worried Britain and France, who feared that if the Ottoman Empire fell entirely, the Russian Empire would seize the chance to take over the eastern Mediterranean. So, for the next century, Britain and France tried to keep the Ottoman Empire going if only to prevent\n",
      "-1.17\t5\tThe Holy Roman Empire lost parts of Hungary to the Ottoman Turks in the early sixteenth century (this is discussed in the section on the Ottoman Empire). The Thirty Years’ War (1618–1648) devastated the region and significantly weakened the role of the Holy Roman emperors, which in the nineteenth century would finally lead to the rise of hundreds of nation-states in the region. By the eighteenth century, the northern German city-states, especially Prussia, were gaining momentum and power.\n",
      "-1.67\t7\tterritory to England, a country that then became even more powerful. The bottom line is that Colbert and Louis XIV’s many territorial invasions and wars proved costly and inefiective. France remained powerful, but by the eighteenth century, its position as a military power was weakening. Nevertheless, by 1750, its position as a center for arts was firmly established. 4. German Areas (The Holy Roman Empire, Sort of) The situation in German and Slavic areas of central Europe during this time period was complicated. The Holy Roman Empire wasn’t really in Rome but rather in present-day Austria and parts of Germany and surrounding regions because Italy was controlled by ruling families in the Italian city-states. The Holy Roman Empire geographically dominated the region, but was also still very feudal with lots of local lords running their own shows. Therefore, the Holy Roman emperor was pretty weak. This is further complicated by the rise of the powerful Hapsburg family of Austria, which,\n",
      ".\n",
      "    Context Documents:\n",
      "    [1] czar, he immediately disbanded it. In the end, the attempts at reform were too little, too late. The Romanov Dynasty would soon come to an end. The Ottoman Empire: Are They Still Calling It an Empire? The Ottoman Empire began its decline in the sixteenth century and never was able to gain a second wind. Throughout the seventeenth and eighteenth centuries, the Ottomans continually fought the Russians for control of the Balkans, the Black Sea, and surrounding areas. Most of the time, the Russians were victorious. So by the nineteenth century, not only was the Ottoman Empire considerably smaller and less powerful, but it was in danger of collapse. Greece, Egypt, and Arabia launched successful independence movements. This worried Britain and France, who feared that if the Ottoman Empire fell entirely, the Russian Empire would seize the chance to take over the eastern Mediterranean. So, for the next century, Britain and France tried to keep the Ottoman Empire going if only to prevent\n",
      "[2] The Holy Roman Empire lost parts of Hungary to the Ottoman Turks in the early sixteenth century (this is discussed in the section on the Ottoman Empire). The Thirty Years’ War (1618–1648) devastated the region and significantly weakened the role of the Holy Roman emperors, which in the nineteenth century would finally lead to the rise of hundreds of nation-states in the region. By the eighteenth century, the northern German city-states, especially Prussia, were gaining momentum and power.\n",
      "[3] territory to England, a country that then became even more powerful. The bottom line is that Colbert and Louis XIV’s many territorial invasions and wars proved costly and inefiective. France remained powerful, but by the eighteenth century, its position as a military power was weakening. Nevertheless, by 1750, its position as a center for arts was firmly established. 4. German Areas (The Holy Roman Empire, Sort of) The situation in German and Slavic areas of central Europe during this time period was complicated. The Holy Roman Empire wasn’t really in Rome but rather in present-day Austria and parts of Germany and surrounding regions because Italy was controlled by ruling families in the Italian city-states. The Holy Roman Empire geographically dominated the region, but was also still very feudal with lots of local lords running their own shows. Therefore, the Holy Roman emperor was pretty weak. This is further complicated by the rise of the powerful Hapsburg family of Austria, which,\n",
      "\n",
      "    Question:\n",
      "    During the eighteenth century, which of the following reigned, but did not rule? a) The Ottoman sultan b) The king of France c) The Chinese emperor d) The Japanese emperor e) The Russian Tzar\n",
      "    \n",
      "-----------------------------------------------------------------\n",
      "1.68\t0\tSpanish had incredibly powerful weapons on their side: namely, diseases such as smallpox. These diseases were completely new to the Americas, and quickly decimated the Aztecs, who had no resistance to them. The combination of disease, superior weapons, and assistance from Aztec enemies reduced the native population of the region from well over 20 million in 1520 to fewer than 2 million by 1580. Because so many of the deaths occurred in the first few years, the Spaniards were able to seize control of the empire by around 1525. A similar fate met the Inca Empire. In 1531, Francisco Pizarro set out in search of the Incas with a tiny force of 200 men. Disease, superior weapons, and help from enemies quickly destroyed what little resistance the Incas could mount. By 1535, Pizarro was in control of the region.\n",
      "1.05\t1\tAztecs used the conquest of neighboring communities to secure humans for religious sacrifices. These neighboring states loathed the Aztecs, and were more than willing to cooperate with the Spaniards. Cortes, aided and guided by the resentful neighbors, first approached the magnificent Aztec capital of Tenochtitlan on horseback. Horses were as yet completely unknown in America (and in fact were introduced to the continent by Spanish conquistadores). Montezuma, the Aztec ruler, mistook Cortes, with his pale skin and horse legs, for a god. He sent a gift of gold to appease this new deity, but unfortunately for the Aztecs, this ofiering only fueled the appetite of the new conquerors. Because the Spaniards’ sole motivation for exploring the New World was to acquire gold and spices, the Spanish didn’t hesitate to seize Montezuma and begin a siege of Tenochtitlan. Disease: The Ultimate Weapon of Mass Destruction Although the Aztecs resisted the occupation and fought to free their leader, the\n",
      "0.41\t10\tconsolidation of Spanish authority under one house, and thereby created a nation-state that would become one of the world’s most powerful forces over the next century. By aggressively supporting exploration (initially by underwriting Columbus’s exploration and then later by establishing empires in the New World), Ferdinand and Isabella had a long-term impact on cultural world developments—they ensured the survival and expansion of the Spanish language and culture, including Roman Catholicism, by extending them across the Atlantic. Ferdinand and Isabella also built a formidable naval eet, allowing Spain to rule the seas for the next century.\n",
      ".\n",
      "    Context Documents:\n",
      "    [1] Spanish had incredibly powerful weapons on their side: namely, diseases such as smallpox. These diseases were completely new to the Americas, and quickly decimated the Aztecs, who had no resistance to them. The combination of disease, superior weapons, and assistance from Aztec enemies reduced the native population of the region from well over 20 million in 1520 to fewer than 2 million by 1580. Because so many of the deaths occurred in the first few years, the Spaniards were able to seize control of the empire by around 1525. A similar fate met the Inca Empire. In 1531, Francisco Pizarro set out in search of the Incas with a tiny force of 200 men. Disease, superior weapons, and help from enemies quickly destroyed what little resistance the Incas could mount. By 1535, Pizarro was in control of the region.\n",
      "[2] Aztecs used the conquest of neighboring communities to secure humans for religious sacrifices. These neighboring states loathed the Aztecs, and were more than willing to cooperate with the Spaniards. Cortes, aided and guided by the resentful neighbors, first approached the magnificent Aztec capital of Tenochtitlan on horseback. Horses were as yet completely unknown in America (and in fact were introduced to the continent by Spanish conquistadores). Montezuma, the Aztec ruler, mistook Cortes, with his pale skin and horse legs, for a god. He sent a gift of gold to appease this new deity, but unfortunately for the Aztecs, this ofiering only fueled the appetite of the new conquerors. Because the Spaniards’ sole motivation for exploring the New World was to acquire gold and spices, the Spanish didn’t hesitate to seize Montezuma and begin a siege of Tenochtitlan. Disease: The Ultimate Weapon of Mass Destruction Although the Aztecs resisted the occupation and fought to free their leader, the\n",
      "[3] consolidation of Spanish authority under one house, and thereby created a nation-state that would become one of the world’s most powerful forces over the next century. By aggressively supporting exploration (initially by underwriting Columbus’s exploration and then later by establishing empires in the New World), Ferdinand and Isabella had a long-term impact on cultural world developments—they ensured the survival and expansion of the Spanish language and culture, including Roman Catholicism, by extending them across the Atlantic. Ferdinand and Isabella also built a formidable naval eet, allowing Spain to rule the seas for the next century.\n",
      "\n",
      "    Question:\n",
      "    Which of the following was the most important factor enabling the Spanish to defeat the Aztec Empire? a) The Spanish were able to field larger armies than the Aztecs b) The Spanish were able to use their understanding of Aztec culture to create effective propaganda that weakened Aztec resistance. c) The Spanish were able to exploit discontent within the Aztec state to trigger a revolt of the lower classes against the Aztec ruling class. d) The Spanish were able to form military alliances with other indigenous peoples who were enemies of the Aztecs. e) The Spanish were able to devise effective countermeasures to the horse cavalry that formed the bulk of the Aztec army.\n",
      "    \n",
      "-----------------------------------------------------------------\n",
      "-3.38\t2\tValley. Each of the Aryan tribes migrated to India independently; over a period of time, they began to settle in the Indus Valley, where they would give up their nomadic lifestyles. The important thing to remember about the Aryan conquest of the Indus Valley is the establishment of their religious beliefs on the Indian subcontinent, in particular their belief in reincarnation. The Aryans, yet another polytheistic people, recorded their beliefs and traditions in the Vedas and the Upanishads. Over centuries, these early Aryan beliefs evolved to form the basis for what later became Hinduism, which is discussed in detail in Section IV of this chapter. The Aryan social structure also had a major impact on later developments in India. Combined with Hinduism, it formed the basis of what later became the caste system. Initially, the Aryan social structure divided its people into three classes, in this order from top to bottom: warriors, priests, and peasants. Later, a class of landowners and\n",
      "-5.76\t30\tmindfulness, and right meditation. Following this path enables you to move toward nirvana, the state of perfect peace and harmony. The goal in one’s life is to reach nirvana, which may or may not take several lifetimes, meaning that Buddhists also believe in reincarnation. Buddhism holds that anyone can achieve nirvana; it is not dependent on an underlying social structure, such as the caste system. After the death of Buddha in 483 B.C.E., Buddhism split into two large movements, Theravada (Hinayana) and Mahayana. Theravada (Hinayana) Buddhism emphasizes meditation, simplicity, and an interpretation of nirvana as the renunciation of human consciousness and of the self. In Theravada Buddhism, Buddha himself is not considered a god, and other gods and goddesses have very little significance. (Theravada means “the Way of the Elders”; Hinayana means “the Lesser Vehicle.”) Mahayana Buddhism (“The Greater Vehicle”) is a more complicated form of Buddhism, involving greater ritual than Buddha\n",
      "-6.26\t15\tnext chapter. A. POLYTHEISM Cultures that Practiced It The vast majority of ancient civilizations were polytheistic. Through 600 C.E., the religions of all of the Mesopotamian and Mediterranean empires were polytheistic, except for the Hebrews and the Christians. In the east, Aryan religions, Hinduism, and traditional Chinese systems were polytheistic. Some Buddhist sects were polytheistic, as were some Daoist sects. Nuts and Bolts Polytheists believe in multiple gods who impact daily life on earth to varying degrees, sometimes for good, and sometimes not. For example, prior to the rise of Christianity, the ancient Greeks and Romans worshipped numerous gods who had very human qualities and who sometimes battled each other. In ancient Egypt, the gods were often considered benevolent and kind, while in ancient Sumer, the gods were to be feared, and hence had to be appeased on a regular basis. Broader Impact Polytheism had a major impact on the development of civilization: It was\n",
      ".\n",
      "    Context Documents:\n",
      "    [1] Valley. Each of the Aryan tribes migrated to India independently; over a period of time, they began to settle in the Indus Valley, where they would give up their nomadic lifestyles. The important thing to remember about the Aryan conquest of the Indus Valley is the establishment of their religious beliefs on the Indian subcontinent, in particular their belief in reincarnation. The Aryans, yet another polytheistic people, recorded their beliefs and traditions in the Vedas and the Upanishads. Over centuries, these early Aryan beliefs evolved to form the basis for what later became Hinduism, which is discussed in detail in Section IV of this chapter. The Aryan social structure also had a major impact on later developments in India. Combined with Hinduism, it formed the basis of what later became the caste system. Initially, the Aryan social structure divided its people into three classes, in this order from top to bottom: warriors, priests, and peasants. Later, a class of landowners and\n",
      "[2] mindfulness, and right meditation. Following this path enables you to move toward nirvana, the state of perfect peace and harmony. The goal in one’s life is to reach nirvana, which may or may not take several lifetimes, meaning that Buddhists also believe in reincarnation. Buddhism holds that anyone can achieve nirvana; it is not dependent on an underlying social structure, such as the caste system. After the death of Buddha in 483 B.C.E., Buddhism split into two large movements, Theravada (Hinayana) and Mahayana. Theravada (Hinayana) Buddhism emphasizes meditation, simplicity, and an interpretation of nirvana as the renunciation of human consciousness and of the self. In Theravada Buddhism, Buddha himself is not considered a god, and other gods and goddesses have very little significance. (Theravada means “the Way of the Elders”; Hinayana means “the Lesser Vehicle.”) Mahayana Buddhism (“The Greater Vehicle”) is a more complicated form of Buddhism, involving greater ritual than Buddha\n",
      "[3] next chapter. A. POLYTHEISM Cultures that Practiced It The vast majority of ancient civilizations were polytheistic. Through 600 C.E., the religions of all of the Mesopotamian and Mediterranean empires were polytheistic, except for the Hebrews and the Christians. In the east, Aryan religions, Hinduism, and traditional Chinese systems were polytheistic. Some Buddhist sects were polytheistic, as were some Daoist sects. Nuts and Bolts Polytheists believe in multiple gods who impact daily life on earth to varying degrees, sometimes for good, and sometimes not. For example, prior to the rise of Christianity, the ancient Greeks and Romans worshipped numerous gods who had very human qualities and who sometimes battled each other. In ancient Egypt, the gods were often considered benevolent and kind, while in ancient Sumer, the gods were to be feared, and hence had to be appeased on a regular basis. Broader Impact Polytheism had a major impact on the development of civilization: It was\n",
      "\n",
      "    Question:\n",
      "    The foundation of ancient Indian civilization is best described by all of the following EXCEPT (A) reincarnation (B) the Dao (C) caste (D) karma\n",
      "    \n",
      "-----------------------------------------------------------------\n"
     ]
    }
   ],
   "source": [
    "questions: list =[\n",
    "    \"Ghana in the 900s and France in the 1600s had which of the following characteristics in common? a) Parliamentary government b) Divine monarchy c) Matrilineal descent d) Islam e) Trade based on gold and manufacturing good\",\n",
    "    \"During the eighteenth century, which of the following reigned, but did not rule? a) The Ottoman sultan b) The king of France c) The Chinese emperor d) The Japanese emperor e) The Russian Tzar\",\n",
    "    \"Which of the following was the most important factor enabling the Spanish to defeat the Aztec Empire? a) The Spanish were able to field larger armies than the Aztecs b) The Spanish were able to use their understanding of Aztec culture to create effective propaganda that weakened Aztec resistance. c) The Spanish were able to exploit discontent within the Aztec state to trigger a revolt of the lower classes against the Aztec ruling class. d) The Spanish were able to form military alliances with other indigenous peoples who were enemies of the Aztecs. e) The Spanish were able to devise effective countermeasures to the horse cavalry that formed the bulk of the Aztec army.\",\n",
    "    \"The foundation of ancient Indian civilization is best described by all of the following EXCEPT (A) reincarnation (B) the Dao (C) caste (D) karma\"\n",
    "    ]\n",
    "\n",
    "for question in questions:\n",
    "    print(generate_prompt(question, query_with_reranking(collection, question)))\n",
    "    print(\"-----------------------------------------------------------------\")\n",
    "\n"
   ]
  },
  {
   "cell_type": "code",
   "execution_count": null,
   "id": "3f7704d3",
   "metadata": {},
   "outputs": [],
   "source": []
  }
 ],
 "metadata": {
  "kernelspec": {
   "display_name": ".venv",
   "language": "python",
   "name": "python3"
  },
  "language_info": {
   "codemirror_mode": {
    "name": "ipython",
    "version": 3
   },
   "file_extension": ".py",
   "mimetype": "text/x-python",
   "name": "python",
   "nbconvert_exporter": "python",
   "pygments_lexer": "ipython3",
   "version": "3.12.9"
  }
 },
 "nbformat": 4,
 "nbformat_minor": 5
}
