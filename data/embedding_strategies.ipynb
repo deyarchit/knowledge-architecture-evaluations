{
 "cells": [
  {
   "cell_type": "code",
   "execution_count": 1,
   "id": "5ce33c18",
   "metadata": {},
   "outputs": [],
   "source": [
    "import chromadb\n",
    "\n",
    "client = chromadb.Client()"
   ]
  },
  {
   "cell_type": "markdown",
   "id": "5f0dcd1c",
   "metadata": {},
   "source": [
    "### Preparing the data for vector search"
   ]
  },
  {
   "cell_type": "code",
   "execution_count": 2,
   "id": "8b382073",
   "metadata": {},
   "outputs": [
    {
     "name": "stderr",
     "output_type": "stream",
     "text": [
      "/Users/deyarchit/Projects/ai/knowledge-evaluations/.venv/lib/python3.12/site-packages/tqdm/auto.py:21: TqdmWarning: IProgress not found. Please update jupyter and ipywidgets. See https://ipywidgets.readthedocs.io/en/stable/user_install.html\n",
      "  from .autonotebook import tqdm as notebook_tqdm\n"
     ]
    }
   ],
   "source": [
    "from pathlib import Path\n",
    "from evaluator.data.file_io import read_json_from_file\n",
    "from evaluator.models.qa import Concepts\n",
    "\n",
    "# Prepara data for loading\n",
    "chunk_file = Path(\"processed/ap_history_concepts.json\")\n",
    "concepts = Concepts\n",
    "concepts = read_json_from_file(chunk_file, Concepts)\n",
    "\n",
    "ids:list = []\n",
    "documents:list = []\n",
    "for concept_id, concept in concepts.chunks.items():\n",
    "    documents.append(concept)\n",
    "    ids.append(concept_id)"
   ]
  },
  {
   "cell_type": "markdown",
   "id": "eb60001d",
   "metadata": {},
   "source": [
    "### Using a collection with default embedder model\n",
    "\n",
    "Model: all-MiniLM-L6-v2"
   ]
  },
  {
   "cell_type": "code",
   "execution_count": null,
   "id": "49accf96",
   "metadata": {},
   "outputs": [],
   "source": [
    "# Create a collection with default embedder\n",
    "collection_with_default_embedder = client.get_or_create_collection(name=\"ap_history_concepts\")\n",
    "\n",
    "# Add documents to the colleciton using the default embedder\n",
    "collection = collection_with_default_embedder\n",
    "collection.upsert(\n",
    "    documents=documents,\n",
    "    ids=ids\n",
    ")"
   ]
  },
  {
   "cell_type": "code",
   "execution_count": null,
   "id": "98d52f4d",
   "metadata": {},
   "outputs": [],
   "source": [
    "results = collection.query(\n",
    "    query_texts=[\"In the period 1550-1750, most of the world’s ten largest cities were located in which of the following regions? a) The Middle East b) Western Europe c) North Africa and southern Europe d) South Asia e) East Asia\"],\n",
    "    n_results=5, # how many results to return\n",
    "    include=['documents', 'distances', 'metadatas']\n",
    ")\n",
    "print(\"\\nChromaDB Query Results:\")\n",
    "for i, doc in enumerate(results['documents'][0]):\n",
    "    print(f\"  Result {i+1}:\")\n",
    "    print(f\"    Text: {doc}\")\n",
    "    print(f\"    Distance: {results['distances'][0][i]}\")\n",
    "    print(f\"    Metadata: {results['metadatas'][0][i]}\")"
   ]
  },
  {
   "cell_type": "markdown",
   "id": "6a4cef83",
   "metadata": {},
   "source": [
    "### Preparing prompts"
   ]
  },
  {
   "cell_type": "code",
   "execution_count": 2,
   "id": "6f5b0849",
   "metadata": {},
   "outputs": [],
   "source": [
    "def query(collection, query: str) -> list:\n",
    "        results = collection.query(\n",
    "            query_texts=[query],\n",
    "            n_results=3,\n",
    "            include=[\"documents\", \"distances\", \"metadatas\"],\n",
    "        )\n",
    "        if not results[\"documents\"]:\n",
    "            return \"\"        \n",
    "\n",
    "        return results[\"documents\"][0]\n",
    "\n",
    "def generate_prompt(question_with_options:str, context_docs: list):\n",
    "    formatted_context = \"\\n\".join([f\"[{i+1}] {doc}\" for i, doc in enumerate(context_docs)])\n",
    "\n",
    "    prompt = f\"\"\".\n",
    "    Context Documents:\n",
    "    {formatted_context}\n",
    "\n",
    "    Question:\n",
    "    {question_with_options}\n",
    "    \"\"\"\n",
    "    return prompt"
   ]
  },
  {
   "cell_type": "code",
   "execution_count": 3,
   "id": "a74189dd",
   "metadata": {},
   "outputs": [
    {
     "ename": "NameError",
     "evalue": "name 'collection' is not defined",
     "output_type": "error",
     "traceback": [
      "\u001b[31m---------------------------------------------------------------------------\u001b[39m",
      "\u001b[31mNameError\u001b[39m                                 Traceback (most recent call last)",
      "\u001b[36mCell\u001b[39m\u001b[36m \u001b[39m\u001b[32mIn[3]\u001b[39m\u001b[32m, line 8\u001b[39m\n\u001b[32m      1\u001b[39m questions: \u001b[38;5;28mlist\u001b[39m =[\n\u001b[32m      2\u001b[39m     \u001b[33m\"\u001b[39m\u001b[33mGhana in the 900s and France in the 1600s had which of the following characteristics in common? a) Parliamentary government b) Divine monarchy c) Matrilineal descent d) Islam e) Trade based on gold and manufacturing good\u001b[39m\u001b[33m\"\u001b[39m,\n\u001b[32m      3\u001b[39m     \u001b[33m\"\u001b[39m\u001b[33mDuring the eighteenth century, which of the following reigned, but did not rule? a) The Ottoman sultan b) The king of France c) The Chinese emperor d) The Japanese emperor e) The Russian Tzar\u001b[39m\u001b[33m\"\u001b[39m,\n\u001b[32m      4\u001b[39m     \u001b[33m\"\u001b[39m\u001b[33mWhich of the following was the most important factor enabling the Spanish to defeat the Aztec Empire? a) The Spanish were able to field larger armies than the Aztecs b) The Spanish were able to use their understanding of Aztec culture to create effective propaganda that weakened Aztec resistance. c) The Spanish were able to exploit discontent within the Aztec state to trigger a revolt of the lower classes against the Aztec ruling class. d) The Spanish were able to form military alliances with other indigenous peoples who were enemies of the Aztecs. e) The Spanish were able to devise effective countermeasures to the horse cavalry that formed the bulk of the Aztec army.\u001b[39m\u001b[33m\"\u001b[39m\n\u001b[32m      5\u001b[39m     ]\n\u001b[32m      7\u001b[39m \u001b[38;5;28;01mfor\u001b[39;00m question \u001b[38;5;129;01min\u001b[39;00m questions:\n\u001b[32m----> \u001b[39m\u001b[32m8\u001b[39m     \u001b[38;5;28mprint\u001b[39m(generate_prompt(question, query(\u001b[43mcollection\u001b[49m, question)))\n\u001b[32m      9\u001b[39m     \u001b[38;5;28mprint\u001b[39m(\u001b[33m\"\u001b[39m\u001b[33m-----------------------------------------------------------------\u001b[39m\u001b[33m\"\u001b[39m)\n",
      "\u001b[31mNameError\u001b[39m: name 'collection' is not defined"
     ]
    }
   ],
   "source": [
    "questions: list =[\n",
    "    \"Ghana in the 900s and France in the 1600s had which of the following characteristics in common? a) Parliamentary government b) Divine monarchy c) Matrilineal descent d) Islam e) Trade based on gold and manufacturing good\",\n",
    "    \"During the eighteenth century, which of the following reigned, but did not rule? a) The Ottoman sultan b) The king of France c) The Chinese emperor d) The Japanese emperor e) The Russian Tzar\",\n",
    "    \"Which of the following was the most important factor enabling the Spanish to defeat the Aztec Empire? a) The Spanish were able to field larger armies than the Aztecs b) The Spanish were able to use their understanding of Aztec culture to create effective propaganda that weakened Aztec resistance. c) The Spanish were able to exploit discontent within the Aztec state to trigger a revolt of the lower classes against the Aztec ruling class. d) The Spanish were able to form military alliances with other indigenous peoples who were enemies of the Aztecs. e) The Spanish were able to devise effective countermeasures to the horse cavalry that formed the bulk of the Aztec army.\"\n",
    "    ]\n",
    "\n",
    "for question in questions:\n",
    "    print(generate_prompt(question, query(collection, question)))\n",
    "    print(\"-----------------------------------------------------------------\")"
   ]
  },
  {
   "cell_type": "markdown",
   "id": "7352158c",
   "metadata": {},
   "source": [
    "### Using a custom embedder"
   ]
  },
  {
   "cell_type": "code",
   "execution_count": 4,
   "id": "1fe7bef8",
   "metadata": {},
   "outputs": [],
   "source": [
    "from chromadb import Documents, EmbeddingFunction, Embeddings\n",
    "from sentence_transformers import SentenceTransformer\n",
    "\n",
    "\n",
    "class CustomEmbedder(EmbeddingFunction):\n",
    "    def __init__(self, model_instance: SentenceTransformer) -> None:\n",
    "        self.model = model_instance\n",
    "\n",
    "    def __call__(self, input: Documents) -> Embeddings:\n",
    "        # SentenceTransformer.encode returns a numpy array, convert to list of lists\n",
    "        response = self.model.encode(input).tolist()\n",
    "        return response\n",
    "\n",
    "\n",
    "custom_embedder  = CustomEmbedder(model_instance=SentenceTransformer(\"Qwen/Qwen3-Embedding-0.6B\"))\n",
    "collection_with_custom_embedder = client.get_or_create_collection(name=\"ap_history_concepts_custom\", embedding_function=custom_embedder)\n",
    "\n",
    "collection = collection_with_custom_embedder\n",
    "collection.upsert(\n",
    "    documents=documents,\n",
    "    ids=ids\n",
    ")"
   ]
  },
  {
   "cell_type": "code",
   "execution_count": 1,
   "id": "7d82954e",
   "metadata": {},
   "outputs": [
    {
     "ename": "NameError",
     "evalue": "name 'generate_prompt' is not defined",
     "output_type": "error",
     "traceback": [
      "\u001b[31m---------------------------------------------------------------------------\u001b[39m",
      "\u001b[31mNameError\u001b[39m                                 Traceback (most recent call last)",
      "\u001b[36mCell\u001b[39m\u001b[36m \u001b[39m\u001b[32mIn[1]\u001b[39m\u001b[32m, line 8\u001b[39m\n\u001b[32m      1\u001b[39m questions: \u001b[38;5;28mlist\u001b[39m =[\n\u001b[32m      2\u001b[39m     \u001b[33m\"\u001b[39m\u001b[33mGhana in the 900s and France in the 1600s had which of the following characteristics in common? a) Parliamentary government b) Divine monarchy c) Matrilineal descent d) Islam e) Trade based on gold and manufacturing good\u001b[39m\u001b[33m\"\u001b[39m,\n\u001b[32m      3\u001b[39m     \u001b[33m\"\u001b[39m\u001b[33mDuring the eighteenth century, which of the following reigned, but did not rule? a) The Ottoman sultan b) The king of France c) The Chinese emperor d) The Japanese emperor e) The Russian Tzar\u001b[39m\u001b[33m\"\u001b[39m,\n\u001b[32m      4\u001b[39m     \u001b[33m\"\u001b[39m\u001b[33mWhich of the following was the most important factor enabling the Spanish to defeat the Aztec Empire? a) The Spanish were able to field larger armies than the Aztecs b) The Spanish were able to use their understanding of Aztec culture to create effective propaganda that weakened Aztec resistance. c) The Spanish were able to exploit discontent within the Aztec state to trigger a revolt of the lower classes against the Aztec ruling class. d) The Spanish were able to form military alliances with other indigenous peoples who were enemies of the Aztecs. e) The Spanish were able to devise effective countermeasures to the horse cavalry that formed the bulk of the Aztec army.\u001b[39m\u001b[33m\"\u001b[39m\n\u001b[32m      5\u001b[39m     ]\n\u001b[32m      7\u001b[39m \u001b[38;5;28;01mfor\u001b[39;00m question \u001b[38;5;129;01min\u001b[39;00m questions:\n\u001b[32m----> \u001b[39m\u001b[32m8\u001b[39m     \u001b[38;5;28mprint\u001b[39m(\u001b[43mgenerate_prompt\u001b[49m(question, query(collection, question)))\n\u001b[32m      9\u001b[39m     \u001b[38;5;28mprint\u001b[39m(\u001b[33m\"\u001b[39m\u001b[33m-----------------------------------------------------------------\u001b[39m\u001b[33m\"\u001b[39m)\n",
      "\u001b[31mNameError\u001b[39m: name 'generate_prompt' is not defined"
     ]
    }
   ],
   "source": [
    "questions: list =[\n",
    "    \"Ghana in the 900s and France in the 1600s had which of the following characteristics in common? a) Parliamentary government b) Divine monarchy c) Matrilineal descent d) Islam e) Trade based on gold and manufacturing good\",\n",
    "    \"During the eighteenth century, which of the following reigned, but did not rule? a) The Ottoman sultan b) The king of France c) The Chinese emperor d) The Japanese emperor e) The Russian Tzar\",\n",
    "    \"Which of the following was the most important factor enabling the Spanish to defeat the Aztec Empire? a) The Spanish were able to field larger armies than the Aztecs b) The Spanish were able to use their understanding of Aztec culture to create effective propaganda that weakened Aztec resistance. c) The Spanish were able to exploit discontent within the Aztec state to trigger a revolt of the lower classes against the Aztec ruling class. d) The Spanish were able to form military alliances with other indigenous peoples who were enemies of the Aztecs. e) The Spanish were able to devise effective countermeasures to the horse cavalry that formed the bulk of the Aztec army.\"\n",
    "    ]\n",
    "\n",
    "for question in questions:\n",
    "    print(generate_prompt(question, query(collection, question)))\n",
    "    print(\"-----------------------------------------------------------------\")\n"
   ]
  },
  {
   "cell_type": "markdown",
   "id": "d2dacb42",
   "metadata": {},
   "source": [
    "### Exploring how re-ranking works\n",
    "\n",
    "- **Vector Search:** Query with question to retrieve a broad set of candidates.\n",
    "    \n",
    "- **Reranking:** Use a **cross-encoder** on the retrieved candidates (question + each document) to precisely rank their relevance and select the very best ones for your LLM."
   ]
  },
  {
   "cell_type": "code",
   "execution_count": 6,
   "id": "71ec1a28",
   "metadata": {},
   "outputs": [],
   "source": [
    "from sentence_transformers.cross_encoder import CrossEncoder\n",
    "\n",
    "# Pre-trained cross encoder\n",
    "model = CrossEncoder(\"cross-encoder/ms-marco-MiniLM-L6-v2\")\n",
    "\n",
    "def query_with_reranking(collection, query: str) -> list:\n",
    "    results = collection.query(\n",
    "        query_texts=[query],\n",
    "        n_results=50,\n",
    "        include=[\"documents\", \"distances\", \"metadatas\"],\n",
    "    )\n",
    "    if not results[\"documents\"]:\n",
    "        return \"\"        \n",
    "\n",
    "    search_results: list(str) = []\n",
    "    for result in results[\"documents\"][0]:\n",
    "        search_results.append(result)\n",
    "\n",
    "    ranks = model.rank(query, search_results)\n",
    "    # Print the scores\n",
    "\n",
    "    final_results: list(str) =[]\n",
    "    for rank in ranks[:3]:\n",
    "        print(f\"{rank['score']:.2f}\\t{rank['corpus_id']}\\t{search_results[rank['corpus_id']]}\")\n",
    "        final_results.append(search_results[rank['corpus_id']])\n",
    "    \n",
    "    return final_results        "
   ]
  },
  {
   "cell_type": "code",
   "execution_count": 7,
   "id": "bd0478c4",
   "metadata": {},
   "outputs": [
    {
     "name": "stdout",
     "output_type": "stream",
     "text": [
      "-4.42\t2\twhich they had little of but which existed in the Sahara. When they encountered the Islamic traders along the salt road, they started trading for a lot more than just salt. The consequence was an explosion of trade. Why were the Islamic traders so interested in trading with west African kingdoms? Because in Ghana (about 800–1000 C.E.) and Mali (about 1200–1450 C.E.), there was tons, and we mean tons, of gold. A little sand in your eyes was probably worth some gold in your hand. So the Islamic traders kept coming. The constant trade brought more than just Islamic goods to Ghana and Mali; it brought Islam. For Ghana the result was devastating. The empire was subjected to a Holy War led by an Islamic group intent on converting (or else killing) them. While Ghana was able to defeat the\n",
      "-5.32\t7\tempire was subjected to a Holy War led by an Islamic group intent on converting (or else killing) them. While Ghana was able to defeat the Islamic forces, their empire fell into decline. By the time the Mali came to power, the region had converted to Islam anyway, this time in a more peaceful transition. One of the greatest Mali rulers, Mansa Musa, built a capital at Timbuktu and expanded the kingdom well beyond the bounds of Ghana. In 1307, Musa made a pilgrimage to Mecca (remember the Five Pillars of Islam?) complete with an entourage of hundreds of gold-carrying servants and camels. The journey was so extravagant and so long and so impressive to everyone who saw it, that Musa became an overnight international sensation. Had the entertainment industry been fully established during that time, you can bet that Access Hollywood and US Weekly would have been all over the Musa moment. But the largest empire in west Africa was formed in the mid-fteenth century, when Songhai ruler Sonni Ali\n",
      "-5.76\t0\tother hand, France’s Estates-General (a governing body representing clergy, nobles, merchants, and peasants) was not nearly as powerful as the English Parliament. It didn’t even meet for the bulk of the seventeenth century because the French kings ruled successfully under the justification of divine right.\n",
      ".\n",
      "    Context Documents:\n",
      "    [1] which they had little of but which existed in the Sahara. When they encountered the Islamic traders along the salt road, they started trading for a lot more than just salt. The consequence was an explosion of trade. Why were the Islamic traders so interested in trading with west African kingdoms? Because in Ghana (about 800–1000 C.E.) and Mali (about 1200–1450 C.E.), there was tons, and we mean tons, of gold. A little sand in your eyes was probably worth some gold in your hand. So the Islamic traders kept coming. The constant trade brought more than just Islamic goods to Ghana and Mali; it brought Islam. For Ghana the result was devastating. The empire was subjected to a Holy War led by an Islamic group intent on converting (or else killing) them. While Ghana was able to defeat the\n",
      "[2] empire was subjected to a Holy War led by an Islamic group intent on converting (or else killing) them. While Ghana was able to defeat the Islamic forces, their empire fell into decline. By the time the Mali came to power, the region had converted to Islam anyway, this time in a more peaceful transition. One of the greatest Mali rulers, Mansa Musa, built a capital at Timbuktu and expanded the kingdom well beyond the bounds of Ghana. In 1307, Musa made a pilgrimage to Mecca (remember the Five Pillars of Islam?) complete with an entourage of hundreds of gold-carrying servants and camels. The journey was so extravagant and so long and so impressive to everyone who saw it, that Musa became an overnight international sensation. Had the entertainment industry been fully established during that time, you can bet that Access Hollywood and US Weekly would have been all over the Musa moment. But the largest empire in west Africa was formed in the mid-fteenth century, when Songhai ruler Sonni Ali\n",
      "[3] other hand, France’s Estates-General (a governing body representing clergy, nobles, merchants, and peasants) was not nearly as powerful as the English Parliament. It didn’t even meet for the bulk of the seventeenth century because the French kings ruled successfully under the justification of divine right.\n",
      "\n",
      "    Question:\n",
      "    Ghana in the 900s and France in the 1600s had which of the following characteristics in common? a) Parliamentary government b) Divine monarchy c) Matrilineal descent d) Islam e) Trade based on gold and manufacturing good\n",
      "    \n",
      "-----------------------------------------------------------------\n",
      "1.39\t2\tczar, he immediately disbanded it. In the end, the attempts at reform were too little, too late. The Romanov Dynasty would soon come to an end. The Ottoman Empire: Are They Still Calling It an Empire? The Ottoman Empire began its decline in the sixteenth century and never was able to gain a second wind. Throughout the seventeenth and eighteenth centuries, the Ottomans continually fought the Russians for control of the Balkans, the Black Sea, and surrounding areas. Most of the time, the Russians were victorious. So by the nineteenth century, not only was the Ottoman Empire considerably smaller and less powerful, but it was in danger of collapse. Greece, Egypt, and Arabia launched successful independence movements. This worried Britain and France, who feared that if the Ottoman Empire fell entirely, the Russian Empire would seize the chance to take over the eastern Mediterranean. So, for the next century, Britain and France tried to keep the Ottoman Empire going if only to prevent\n",
      "-1.17\t5\tThe Holy Roman Empire lost parts of Hungary to the Ottoman Turks in the early sixteenth century (this is discussed in the section on the Ottoman Empire). The Thirty Years’ War (1618–1648) devastated the region and significantly weakened the role of the Holy Roman emperors, which in the nineteenth century would finally lead to the rise of hundreds of nation-states in the region. By the eighteenth century, the northern German city-states, especially Prussia, were gaining momentum and power.\n",
      "-1.67\t7\tterritory to England, a country that then became even more powerful. The bottom line is that Colbert and Louis XIV’s many territorial invasions and wars proved costly and inefiective. France remained powerful, but by the eighteenth century, its position as a military power was weakening. Nevertheless, by 1750, its position as a center for arts was firmly established. 4. German Areas (The Holy Roman Empire, Sort of) The situation in German and Slavic areas of central Europe during this time period was complicated. The Holy Roman Empire wasn’t really in Rome but rather in present-day Austria and parts of Germany and surrounding regions because Italy was controlled by ruling families in the Italian city-states. The Holy Roman Empire geographically dominated the region, but was also still very feudal with lots of local lords running their own shows. Therefore, the Holy Roman emperor was pretty weak. This is further complicated by the rise of the powerful Hapsburg family of Austria, which,\n",
      ".\n",
      "    Context Documents:\n",
      "    [1] czar, he immediately disbanded it. In the end, the attempts at reform were too little, too late. The Romanov Dynasty would soon come to an end. The Ottoman Empire: Are They Still Calling It an Empire? The Ottoman Empire began its decline in the sixteenth century and never was able to gain a second wind. Throughout the seventeenth and eighteenth centuries, the Ottomans continually fought the Russians for control of the Balkans, the Black Sea, and surrounding areas. Most of the time, the Russians were victorious. So by the nineteenth century, not only was the Ottoman Empire considerably smaller and less powerful, but it was in danger of collapse. Greece, Egypt, and Arabia launched successful independence movements. This worried Britain and France, who feared that if the Ottoman Empire fell entirely, the Russian Empire would seize the chance to take over the eastern Mediterranean. So, for the next century, Britain and France tried to keep the Ottoman Empire going if only to prevent\n",
      "[2] The Holy Roman Empire lost parts of Hungary to the Ottoman Turks in the early sixteenth century (this is discussed in the section on the Ottoman Empire). The Thirty Years’ War (1618–1648) devastated the region and significantly weakened the role of the Holy Roman emperors, which in the nineteenth century would finally lead to the rise of hundreds of nation-states in the region. By the eighteenth century, the northern German city-states, especially Prussia, were gaining momentum and power.\n",
      "[3] territory to England, a country that then became even more powerful. The bottom line is that Colbert and Louis XIV’s many territorial invasions and wars proved costly and inefiective. France remained powerful, but by the eighteenth century, its position as a military power was weakening. Nevertheless, by 1750, its position as a center for arts was firmly established. 4. German Areas (The Holy Roman Empire, Sort of) The situation in German and Slavic areas of central Europe during this time period was complicated. The Holy Roman Empire wasn’t really in Rome but rather in present-day Austria and parts of Germany and surrounding regions because Italy was controlled by ruling families in the Italian city-states. The Holy Roman Empire geographically dominated the region, but was also still very feudal with lots of local lords running their own shows. Therefore, the Holy Roman emperor was pretty weak. This is further complicated by the rise of the powerful Hapsburg family of Austria, which,\n",
      "\n",
      "    Question:\n",
      "    During the eighteenth century, which of the following reigned, but did not rule? a) The Ottoman sultan b) The king of France c) The Chinese emperor d) The Japanese emperor e) The Russian Tzar\n",
      "    \n",
      "-----------------------------------------------------------------\n",
      "1.68\t0\tSpanish had incredibly powerful weapons on their side: namely, diseases such as smallpox. These diseases were completely new to the Americas, and quickly decimated the Aztecs, who had no resistance to them. The combination of disease, superior weapons, and assistance from Aztec enemies reduced the native population of the region from well over 20 million in 1520 to fewer than 2 million by 1580. Because so many of the deaths occurred in the first few years, the Spaniards were able to seize control of the empire by around 1525. A similar fate met the Inca Empire. In 1531, Francisco Pizarro set out in search of the Incas with a tiny force of 200 men. Disease, superior weapons, and help from enemies quickly destroyed what little resistance the Incas could mount. By 1535, Pizarro was in control of the region.\n",
      "1.05\t1\tAztecs used the conquest of neighboring communities to secure humans for religious sacrifices. These neighboring states loathed the Aztecs, and were more than willing to cooperate with the Spaniards. Cortes, aided and guided by the resentful neighbors, first approached the magnificent Aztec capital of Tenochtitlan on horseback. Horses were as yet completely unknown in America (and in fact were introduced to the continent by Spanish conquistadores). Montezuma, the Aztec ruler, mistook Cortes, with his pale skin and horse legs, for a god. He sent a gift of gold to appease this new deity, but unfortunately for the Aztecs, this ofiering only fueled the appetite of the new conquerors. Because the Spaniards’ sole motivation for exploring the New World was to acquire gold and spices, the Spanish didn’t hesitate to seize Montezuma and begin a siege of Tenochtitlan. Disease: The Ultimate Weapon of Mass Destruction Although the Aztecs resisted the occupation and fought to free their leader, the\n",
      "0.41\t10\tconsolidation of Spanish authority under one house, and thereby created a nation-state that would become one of the world’s most powerful forces over the next century. By aggressively supporting exploration (initially by underwriting Columbus’s exploration and then later by establishing empires in the New World), Ferdinand and Isabella had a long-term impact on cultural world developments—they ensured the survival and expansion of the Spanish language and culture, including Roman Catholicism, by extending them across the Atlantic. Ferdinand and Isabella also built a formidable naval eet, allowing Spain to rule the seas for the next century.\n",
      ".\n",
      "    Context Documents:\n",
      "    [1] Spanish had incredibly powerful weapons on their side: namely, diseases such as smallpox. These diseases were completely new to the Americas, and quickly decimated the Aztecs, who had no resistance to them. The combination of disease, superior weapons, and assistance from Aztec enemies reduced the native population of the region from well over 20 million in 1520 to fewer than 2 million by 1580. Because so many of the deaths occurred in the first few years, the Spaniards were able to seize control of the empire by around 1525. A similar fate met the Inca Empire. In 1531, Francisco Pizarro set out in search of the Incas with a tiny force of 200 men. Disease, superior weapons, and help from enemies quickly destroyed what little resistance the Incas could mount. By 1535, Pizarro was in control of the region.\n",
      "[2] Aztecs used the conquest of neighboring communities to secure humans for religious sacrifices. These neighboring states loathed the Aztecs, and were more than willing to cooperate with the Spaniards. Cortes, aided and guided by the resentful neighbors, first approached the magnificent Aztec capital of Tenochtitlan on horseback. Horses were as yet completely unknown in America (and in fact were introduced to the continent by Spanish conquistadores). Montezuma, the Aztec ruler, mistook Cortes, with his pale skin and horse legs, for a god. He sent a gift of gold to appease this new deity, but unfortunately for the Aztecs, this ofiering only fueled the appetite of the new conquerors. Because the Spaniards’ sole motivation for exploring the New World was to acquire gold and spices, the Spanish didn’t hesitate to seize Montezuma and begin a siege of Tenochtitlan. Disease: The Ultimate Weapon of Mass Destruction Although the Aztecs resisted the occupation and fought to free their leader, the\n",
      "[3] consolidation of Spanish authority under one house, and thereby created a nation-state that would become one of the world’s most powerful forces over the next century. By aggressively supporting exploration (initially by underwriting Columbus’s exploration and then later by establishing empires in the New World), Ferdinand and Isabella had a long-term impact on cultural world developments—they ensured the survival and expansion of the Spanish language and culture, including Roman Catholicism, by extending them across the Atlantic. Ferdinand and Isabella also built a formidable naval eet, allowing Spain to rule the seas for the next century.\n",
      "\n",
      "    Question:\n",
      "    Which of the following was the most important factor enabling the Spanish to defeat the Aztec Empire? a) The Spanish were able to field larger armies than the Aztecs b) The Spanish were able to use their understanding of Aztec culture to create effective propaganda that weakened Aztec resistance. c) The Spanish were able to exploit discontent within the Aztec state to trigger a revolt of the lower classes against the Aztec ruling class. d) The Spanish were able to form military alliances with other indigenous peoples who were enemies of the Aztecs. e) The Spanish were able to devise effective countermeasures to the horse cavalry that formed the bulk of the Aztec army.\n",
      "    \n",
      "-----------------------------------------------------------------\n"
     ]
    }
   ],
   "source": [
    "questions: list =[\n",
    "    \"Ghana in the 900s and France in the 1600s had which of the following characteristics in common? a) Parliamentary government b) Divine monarchy c) Matrilineal descent d) Islam e) Trade based on gold and manufacturing good\",\n",
    "    \"During the eighteenth century, which of the following reigned, but did not rule? a) The Ottoman sultan b) The king of France c) The Chinese emperor d) The Japanese emperor e) The Russian Tzar\",\n",
    "    \"Which of the following was the most important factor enabling the Spanish to defeat the Aztec Empire? a) The Spanish were able to field larger armies than the Aztecs b) The Spanish were able to use their understanding of Aztec culture to create effective propaganda that weakened Aztec resistance. c) The Spanish were able to exploit discontent within the Aztec state to trigger a revolt of the lower classes against the Aztec ruling class. d) The Spanish were able to form military alliances with other indigenous peoples who were enemies of the Aztecs. e) The Spanish were able to devise effective countermeasures to the horse cavalry that formed the bulk of the Aztec army.\"\n",
    "    ]\n",
    "\n",
    "for question in questions:\n",
    "    print(generate_prompt(question, query_with_reranking(collection, question)))\n",
    "    print(\"-----------------------------------------------------------------\")\n",
    "\n"
   ]
  },
  {
   "cell_type": "code",
   "execution_count": null,
   "id": "3f7704d3",
   "metadata": {},
   "outputs": [],
   "source": []
  }
 ],
 "metadata": {
  "kernelspec": {
   "display_name": ".venv",
   "language": "python",
   "name": "python3"
  },
  "language_info": {
   "codemirror_mode": {
    "name": "ipython",
    "version": 3
   },
   "file_extension": ".py",
   "mimetype": "text/x-python",
   "name": "python",
   "nbconvert_exporter": "python",
   "pygments_lexer": "ipython3",
   "version": "3.12.9"
  }
 },
 "nbformat": 4,
 "nbformat_minor": 5
}
