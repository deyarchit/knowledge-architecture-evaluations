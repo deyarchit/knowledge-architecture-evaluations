{
 "cells": [
  {
   "cell_type": "code",
   "execution_count": null,
   "id": "5ce33c18",
   "metadata": {},
   "outputs": [],
   "source": [
    "import chromadb\n",
    "\n",
    "client = chromadb.Client()"
   ]
  },
  {
   "cell_type": "markdown",
   "id": "5f0dcd1c",
   "metadata": {},
   "source": [
    "### Preparing the data for vector search"
   ]
  },
  {
   "cell_type": "code",
   "execution_count": null,
   "id": "8b382073",
   "metadata": {},
   "outputs": [],
   "source": [
    "from pathlib import Path\n",
    "from evaluator.data.file_io import read_json_from_file\n",
    "from evaluator.models.qa import Concepts\n",
    "\n",
    "# Prepara data for loading\n",
    "chunk_file = Path(\"processed/ap_history_concepts.json\")\n",
    "concepts = Concepts\n",
    "concepts = read_json_from_file(chunk_file, Concepts)\n",
    "\n",
    "ids:list = []\n",
    "documents:list = []\n",
    "for concept_id, concept in concepts.chunks.items():\n",
    "    documents.append(concept)\n",
    "    ids.append(concept_id)"
   ]
  },
  {
   "cell_type": "markdown",
   "id": "eb60001d",
   "metadata": {},
   "source": [
    "### Using a collection with default embedder model\n",
    "\n",
    "Model: all-MiniLM-L6-v2"
   ]
  },
  {
   "cell_type": "code",
   "execution_count": null,
   "id": "49accf96",
   "metadata": {},
   "outputs": [],
   "source": [
    "# Create a collection with default embedder\n",
    "collection_with_default_embedder = client.get_or_create_collection(name=\"ap_history_concepts\")\n",
    "\n",
    "# Add documents to the colleciton using the default embedder\n",
    "collection = collection_with_default_embedder\n",
    "collection.upsert(\n",
    "    documents=documents,\n",
    "    ids=ids\n",
    ")"
   ]
  },
  {
   "cell_type": "code",
   "execution_count": null,
   "id": "98d52f4d",
   "metadata": {},
   "outputs": [],
   "source": [
    "results = collection.query(\n",
    "    query_texts=[\"In the period 1550-1750, most of the world’s ten largest cities were located in which of the following regions? a) The Middle East b) Western Europe c) North Africa and southern Europe d) South Asia e) East Asia\"],\n",
    "    n_results=5, # how many results to return\n",
    "    include=['documents', 'distances', 'metadatas']\n",
    ")\n",
    "print(\"\\nChromaDB Query Results:\")\n",
    "for i, doc in enumerate(results['documents'][0]):\n",
    "    print(f\"  Result {i+1}:\")\n",
    "    print(f\"    Text: {doc}\")\n",
    "    print(f\"    Distance: {results['distances'][0][i]}\")\n",
    "    print(f\"    Metadata: {results['metadatas'][0][i]}\")"
   ]
  },
  {
   "cell_type": "markdown",
   "id": "6a4cef83",
   "metadata": {},
   "source": [
    "### Preparing prompts"
   ]
  },
  {
   "cell_type": "code",
   "execution_count": null,
   "id": "6f5b0849",
   "metadata": {},
   "outputs": [],
   "source": [
    "def query(collection, query: str) -> list:\n",
    "        results = collection.query(\n",
    "            query_texts=[query],\n",
    "            n_results=3,\n",
    "            include=[\"documents\", \"distances\", \"metadatas\"],\n",
    "        )\n",
    "        if not results[\"documents\"]:\n",
    "            return \"\"        \n",
    "\n",
    "        return results[\"documents\"][0]\n",
    "\n",
    "def generate_prompt(question_with_options:str, context_docs: list):\n",
    "    formatted_context = \"\\n\".join([f\"[{i+1}] {doc}\" for i, doc in enumerate(context_docs)])\n",
    "\n",
    "    prompt = f\"\"\".\n",
    "    Context Documents:\n",
    "    {formatted_context}\n",
    "\n",
    "    Question:\n",
    "    {question_with_options}\n",
    "    \"\"\"\n",
    "    return prompt"
   ]
  },
  {
   "cell_type": "code",
   "execution_count": null,
   "id": "a74189dd",
   "metadata": {},
   "outputs": [],
   "source": [
    "questions: list =[\n",
    "    \"Ghana in the 900s and France in the 1600s had which of the following characteristics in common? a) Parliamentary government b) Divine monarchy c) Matrilineal descent d) Islam e) Trade based on gold and manufacturing good\",\n",
    "    \"During the eighteenth century, which of the following reigned, but did not rule? a) The Ottoman sultan b) The king of France c) The Chinese emperor d) The Japanese emperor e) The Russian Tzar\",\n",
    "    \"Which of the following was the most important factor enabling the Spanish to defeat the Aztec Empire? a) The Spanish were able to field larger armies than the Aztecs b) The Spanish were able to use their understanding of Aztec culture to create effective propaganda that weakened Aztec resistance. c) The Spanish were able to exploit discontent within the Aztec state to trigger a revolt of the lower classes against the Aztec ruling class. d) The Spanish were able to form military alliances with other indigenous peoples who were enemies of the Aztecs. e) The Spanish were able to devise effective countermeasures to the horse cavalry that formed the bulk of the Aztec army.\"\n",
    "    ]\n",
    "\n",
    "for question in questions:\n",
    "    print(generate_prompt(question, query(collection, question)))\n",
    "    print(\"-----------------------------------------------------------------\")"
   ]
  },
  {
   "cell_type": "markdown",
   "id": "7352158c",
   "metadata": {},
   "source": [
    "### Using a custom embedder"
   ]
  },
  {
   "cell_type": "code",
   "execution_count": null,
   "id": "1fe7bef8",
   "metadata": {},
   "outputs": [],
   "source": [
    "from chromadb import Documents, EmbeddingFunction, Embeddings\n",
    "from litellm import embedding\n",
    "\n",
    "\n",
    "class CustomEmbedder(EmbeddingFunction):\n",
    "    def __call__(self, input: Documents) -> Embeddings:\n",
    "        # embed the documents somehow\n",
    "        response = embedding(\n",
    "          model=\"ollama/nomic-embed-text\",\n",
    "        # model=\"gemini/text-embedding-004\",\n",
    "          input=[\"This is a embeddings test.\"],\n",
    "        )\n",
    "        return response\n",
    "\n",
    "\n",
    "custom_embedder = CustomEmbedder()\n",
    "collection_with_custom_embedder = client.get_or_create_collection(name=\"ap_history_concepts_custom\", embedding_function=custom_embedder)\n",
    "\n",
    "collection = collection_with_custom_embedder\n",
    "collection.upsert(\n",
    "    documents=documents,\n",
    "    ids=ids\n",
    ")"
   ]
  },
  {
   "cell_type": "code",
   "execution_count": null,
   "id": "7d82954e",
   "metadata": {},
   "outputs": [],
   "source": [
    "question_with_options =\"Ghana in the 900s and France in the 1600s had which of the following characteristics in common? a) Parliamentary government b) Divine monarchy c) Matrilineal descent d) Islam e) Trade based on gold and manufacturing good\"\n",
    "print(generate_prompt(question_with_options, query(collection, question_with_options)))"
   ]
  },
  {
   "cell_type": "markdown",
   "id": "d2dacb42",
   "metadata": {},
   "source": [
    "### Exploring how re-ranking works\n",
    "\n",
    "- **Vector Search:** Query with question to retrieve a broad set of candidates.\n",
    "    \n",
    "- **Reranking:** Use a **cross-encoder** on the retrieved candidates (question + each document) to precisely rank their relevance and select the very best ones for your LLM."
   ]
  },
  {
   "cell_type": "code",
   "execution_count": null,
   "id": "71ec1a28",
   "metadata": {},
   "outputs": [],
   "source": [
    "from sentence_transformers.cross_encoder import CrossEncoder\n",
    "\n",
    "# Pre-trained cross encoder\n",
    "model = CrossEncoder(\"cross-encoder/ms-marco-MiniLM-L6-v2\")\n",
    "\n",
    "def query_with_reranking(collection, query: str) -> list:\n",
    "    results = collection.query(\n",
    "        query_texts=[query],\n",
    "        n_results=50,\n",
    "        include=[\"documents\", \"distances\", \"metadatas\"],\n",
    "    )\n",
    "    if not results[\"documents\"]:\n",
    "        return \"\"        \n",
    "\n",
    "    search_results: list(str) = []\n",
    "    for result in results[\"documents\"][0]:\n",
    "        search_results.append(result)\n",
    "\n",
    "    ranks = model.rank(query, search_results)\n",
    "    # Print the scores\n",
    "\n",
    "    final_results: list(str) =[]\n",
    "    for rank in ranks[:3]:\n",
    "        print(f\"{rank['score']:.2f}\\t{rank['corpus_id']}\\t{search_results[rank['corpus_id']]}\")\n",
    "        final_results.append(search_results[rank['corpus_id']])\n",
    "    \n",
    "    return final_results        "
   ]
  },
  {
   "cell_type": "code",
   "execution_count": null,
   "id": "bd0478c4",
   "metadata": {},
   "outputs": [],
   "source": [
    "questions: list =[\n",
    "    \"Ghana in the 900s and France in the 1600s had which of the following characteristics in common? a) Parliamentary government b) Divine monarchy c) Matrilineal descent d) Islam e) Trade based on gold and manufacturing good\",\n",
    "    \"During the eighteenth century, which of the following reigned, but did not rule? a) The Ottoman sultan b) The king of France c) The Chinese emperor d) The Japanese emperor e) The Russian Tzar\",\n",
    "    \"Which of the following was the most important factor enabling the Spanish to defeat the Aztec Empire? a) The Spanish were able to field larger armies than the Aztecs b) The Spanish were able to use their understanding of Aztec culture to create effective propaganda that weakened Aztec resistance. c) The Spanish were able to exploit discontent within the Aztec state to trigger a revolt of the lower classes against the Aztec ruling class. d) The Spanish were able to form military alliances with other indigenous peoples who were enemies of the Aztecs. e) The Spanish were able to devise effective countermeasures to the horse cavalry that formed the bulk of the Aztec army.\"\n",
    "    ]\n",
    "\n",
    "for question in questions:\n",
    "    print(generate_prompt(question, query_with_reranking(collection, question)))\n",
    "    print(\"-----------------------------------------------------------------\")\n",
    "\n"
   ]
  },
  {
   "cell_type": "code",
   "execution_count": null,
   "id": "3f7704d3",
   "metadata": {},
   "outputs": [],
   "source": []
  }
 ],
 "metadata": {
  "kernelspec": {
   "display_name": ".venv",
   "language": "python",
   "name": "python3"
  },
  "language_info": {
   "codemirror_mode": {
    "name": "ipython",
    "version": 3
   },
   "file_extension": ".py",
   "mimetype": "text/x-python",
   "name": "python",
   "nbconvert_exporter": "python",
   "pygments_lexer": "ipython3",
   "version": "3.12.9"
  }
 },
 "nbformat": 4,
 "nbformat_minor": 5
}
