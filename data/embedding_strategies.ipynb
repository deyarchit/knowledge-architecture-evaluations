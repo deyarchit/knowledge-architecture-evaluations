{
 "cells": [
  {
   "cell_type": "code",
   "execution_count": 1,
   "id": "5ce33c18",
   "metadata": {},
   "outputs": [],
   "source": [
    "import chromadb\n",
    "\n",
    "client = chromadb.Client()"
   ]
  },
  {
   "cell_type": "code",
   "execution_count": 2,
   "id": "8b382073",
   "metadata": {},
   "outputs": [
    {
     "name": "stderr",
     "output_type": "stream",
     "text": [
      "/Users/deyarchit/Projects/ai/knowledge-evaluations/.venv/lib/python3.12/site-packages/tqdm/auto.py:21: TqdmWarning: IProgress not found. Please update jupyter and ipywidgets. See https://ipywidgets.readthedocs.io/en/stable/user_install.html\n",
      "  from .autonotebook import tqdm as notebook_tqdm\n"
     ]
    }
   ],
   "source": [
    "from pathlib import Path\n",
    "from evaluator.data import read_json_from_file\n",
    "from evaluator.models.qa import Concepts\n",
    "collection = client.get_or_create_collection(name=\"ap_history_concepts\")\n",
    "\n",
    "chunk_file = Path(\"processed/ap_history_concepts.json\")\n",
    "concepts = Concepts\n",
    "concepts = read_json_from_file(chunk_file, Concepts)\n",
    "\n",
    "\n",
    "ids:list = []\n",
    "documents:list = []\n",
    "for concept_id, concept in concepts.chunks.items():\n",
    "    documents.append(concept)\n",
    "    ids.append(concept_id)\n",
    "\n",
    "collection.upsert(\n",
    "    documents=documents,\n",
    "    ids=ids\n",
    ")"
   ]
  },
  {
   "cell_type": "code",
   "execution_count": 3,
   "id": "98d52f4d",
   "metadata": {},
   "outputs": [
    {
     "name": "stdout",
     "output_type": "stream",
     "text": [
      "\n",
      "ChromaDB Query Results:\n",
      "  Result 1:\n",
      "    Text: The more factories that developed in favorable locations, the larger cities would grow. In 1800, along with London, the Chinese cities of Beijing (Peking) and Canton ranked in the top three, but just 100 years later, nine of the ten largest cities in the world were in Europe or the United States.\n",
      "    Distance: 0.7605158090591431\n",
      "    Metadata: None\n",
      "  Result 2:\n",
      "    Text: Focus On: Urbanization If trade is the way you make your living, chances are you are spending lots of time in cities. Traders and merchants needed a place to meet and conduct business and this period saw the growth of urban culture throughout the world, mostly as a result of trade contacts and networks. Along with trade, cities showcased the wealth and power of the rulers who both controlled and beneted from the trade. Urban centers usually developed along trade routes or in locations necessary for strategic defense. In the early years, the most populous cities were in the Muslim world and China—cities that were part of the network of Silk Routes: Baghdad, Merv, and Chang’an. Prior to 1400, Constantinople was the only European city of any size and it was really considered part of the Eastern world. Along with their economic role, these cities became political and cultural centers for the new trade empires. After 1400, European cities begin to grow with Paris and the Italian city-states\n",
      "    Distance: 0.8506983518600464\n",
      "    Metadata: None\n",
      "  Result 3:\n",
      "    Text: Focus On: Demographic Shifts The demographic changes of the sixteenth and seventeenth centuries were, in a word, huge. The Aztecs and Incas were wiped out. Huge cities were depopulated. Europeans moved by the hundreds of thousands. Africans were forced to migrate by the millions. Cities in Europe swelled as the feudal system evaporated and urban, middle class merchants lined their pockets with the fruits of trade and empire. By 1750, the continents of Europe, Africa, North America, and South America were unrecognizable from their 1450 portraits.\n",
      "    Distance: 0.9841632843017578\n",
      "    Metadata: None\n",
      "  Result 4:\n",
      "    Text: IV. Developments in Specific Countries and Empires 1450 to 1750\n",
      "\n",
      "After you’ve studied the major social, religious, economic, and political developments that swept through Europe and beyond, you should be able to put developments in individual countries and empires in the proper context. In addition to reviewing developments that occurred within the individual European powers, we’ll help you review the unique civilizations that existed elsewhere on the globe, particularly the Ottoman Empire, India, China, and Japan. Developments in the Americas, of course, are covered in the previous section under European Exploration and Expansion. In the next chapter, we’ll review the impact of European expansionism on Africa and Asia in the nineteenth century. Here’s how we’ve organized this section.\n",
      "    Distance: 0.9895815849304199\n",
      "    Metadata: None\n",
      "  Result 5:\n",
      "    Text: III. Major European Developments 1450 to 1750\n",
      "\n",
      "This section focuses on developments that inuenced all of Europe, as opposed to more localized developments that afiected particular countries or empires. Of course, the developments discussed in this section had an impact beyond the borders of Europe, which is why they’re so important to the study of world history. We’ve organized the major developments into two main groups.\n",
      "\n",
      "A. Revolutions in European Thought and Expression B. European Exploration and Expansion: Empires of the Wind\n",
      "    Distance: 1.0242433547973633\n",
      "    Metadata: None\n"
     ]
    }
   ],
   "source": [
    "results = collection.query(\n",
    "    query_texts=[\"In the period 1550-1750, most of the world’s ten largest cities were located in which of the following regions? a) The Middle East b) Western Europe c) North Africa and southern Europe d) South Asia e) East Asia\"],\n",
    "    n_results=5, # how many results to return\n",
    "    include=['documents', 'distances', 'metadatas']\n",
    ")\n",
    "print(\"\\nChromaDB Query Results:\")\n",
    "for i, doc in enumerate(results['documents'][0]):\n",
    "    print(f\"  Result {i+1}:\")\n",
    "    print(f\"    Text: {doc}\")\n",
    "    print(f\"    Distance: {results['distances'][0][i]}\")\n",
    "    print(f\"    Metadata: {results['metadatas'][0][i]}\")"
   ]
  },
  {
   "cell_type": "code",
   "execution_count": null,
   "id": "6f5b0849",
   "metadata": {},
   "outputs": [],
   "source": []
  }
 ],
 "metadata": {
  "kernelspec": {
   "display_name": ".venv",
   "language": "python",
   "name": "python3"
  },
  "language_info": {
   "codemirror_mode": {
    "name": "ipython",
    "version": 3
   },
   "file_extension": ".py",
   "mimetype": "text/x-python",
   "name": "python",
   "nbconvert_exporter": "python",
   "pygments_lexer": "ipython3",
   "version": "3.12.9"
  }
 },
 "nbformat": 4,
 "nbformat_minor": 5
}
